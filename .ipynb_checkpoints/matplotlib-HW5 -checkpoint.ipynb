{
 "cells": [
  {
   "cell_type": "markdown",
   "metadata": {},
   "source": [
    "## Observations and Insights"
   ]
  },
  {
   "cell_type": "markdown",
   "metadata": {},
   "source": []
  },
  {
   "cell_type": "markdown",
   "metadata": {},
   "source": [
    "## Dependencies and starter code"
   ]
  },
  {
   "cell_type": "code",
   "execution_count": 1,
   "metadata": {},
   "outputs": [],
   "source": [
    "# Dependencies and Setup\n",
    "import matplotlib.pyplot as plt\n",
    "import pandas as pd\n",
    "import scipy.stats as st\n",
    "\n",
    "# Study data files\n",
    "mouse_metadata = \"data/Mouse_metadata.csv\"\n",
    "study_results = \"data/Study_results.csv\"\n",
    "\n",
    "# Read the mouse data and the study results\n",
    "mouse_metadata = pd.read_csv(mouse_metadata)\n",
    "study_results = pd.read_csv(study_results)\n",
    "\n",
    "# Combine the data into a single dataset"
   ]
  },
  {
   "cell_type": "markdown",
   "metadata": {},
   "source": [
    "## Summary statistics"
   ]
  },
  {
   "cell_type": "code",
   "execution_count": 5,
   "metadata": {},
   "outputs": [],
   "source": [
    "# Generate a summary statistics table of mean, median, variance, standard deviation, and SEM \n",
    "# of the tumor volume for each regimen"
   ]
  },
  {
   "cell_type": "code",
   "execution_count": 6,
   "metadata": {},
   "outputs": [
    {
     "data": {
      "text/html": [
       "<div>\n",
       "<style scoped>\n",
       "    .dataframe tbody tr th:only-of-type {\n",
       "        vertical-align: middle;\n",
       "    }\n",
       "\n",
       "    .dataframe tbody tr th {\n",
       "        vertical-align: top;\n",
       "    }\n",
       "\n",
       "    .dataframe thead th {\n",
       "        text-align: right;\n",
       "    }\n",
       "</style>\n",
       "<table border=\"1\" class=\"dataframe\">\n",
       "  <thead>\n",
       "    <tr style=\"text-align: right;\">\n",
       "      <th></th>\n",
       "      <th>Mouse ID</th>\n",
       "      <th>Drug Regimen</th>\n",
       "      <th>Sex</th>\n",
       "      <th>Age_months</th>\n",
       "      <th>Weight (g)</th>\n",
       "    </tr>\n",
       "  </thead>\n",
       "  <tbody>\n",
       "    <tr>\n",
       "      <td>0</td>\n",
       "      <td>k403</td>\n",
       "      <td>Ramicane</td>\n",
       "      <td>Male</td>\n",
       "      <td>21</td>\n",
       "      <td>16</td>\n",
       "    </tr>\n",
       "    <tr>\n",
       "      <td>1</td>\n",
       "      <td>s185</td>\n",
       "      <td>Capomulin</td>\n",
       "      <td>Female</td>\n",
       "      <td>3</td>\n",
       "      <td>17</td>\n",
       "    </tr>\n",
       "    <tr>\n",
       "      <td>2</td>\n",
       "      <td>x401</td>\n",
       "      <td>Capomulin</td>\n",
       "      <td>Female</td>\n",
       "      <td>16</td>\n",
       "      <td>15</td>\n",
       "    </tr>\n",
       "    <tr>\n",
       "      <td>3</td>\n",
       "      <td>m601</td>\n",
       "      <td>Capomulin</td>\n",
       "      <td>Male</td>\n",
       "      <td>22</td>\n",
       "      <td>17</td>\n",
       "    </tr>\n",
       "    <tr>\n",
       "      <td>4</td>\n",
       "      <td>g791</td>\n",
       "      <td>Ramicane</td>\n",
       "      <td>Male</td>\n",
       "      <td>11</td>\n",
       "      <td>16</td>\n",
       "    </tr>\n",
       "  </tbody>\n",
       "</table>\n",
       "</div>"
      ],
      "text/plain": [
       "  Mouse ID Drug Regimen     Sex  Age_months  Weight (g)\n",
       "0     k403     Ramicane    Male          21          16\n",
       "1     s185    Capomulin  Female           3          17\n",
       "2     x401    Capomulin  Female          16          15\n",
       "3     m601    Capomulin    Male          22          17\n",
       "4     g791     Ramicane    Male          11          16"
      ]
     },
     "execution_count": 6,
     "metadata": {},
     "output_type": "execute_result"
    }
   ],
   "source": [
    "mouse_metadata.head()"
   ]
  },
  {
   "cell_type": "code",
   "execution_count": 7,
   "metadata": {},
   "outputs": [
    {
     "data": {
      "text/html": [
       "<div>\n",
       "<style scoped>\n",
       "    .dataframe tbody tr th:only-of-type {\n",
       "        vertical-align: middle;\n",
       "    }\n",
       "\n",
       "    .dataframe tbody tr th {\n",
       "        vertical-align: top;\n",
       "    }\n",
       "\n",
       "    .dataframe thead th {\n",
       "        text-align: right;\n",
       "    }\n",
       "</style>\n",
       "<table border=\"1\" class=\"dataframe\">\n",
       "  <thead>\n",
       "    <tr style=\"text-align: right;\">\n",
       "      <th></th>\n",
       "      <th>Mouse ID</th>\n",
       "      <th>Timepoint</th>\n",
       "      <th>Tumor Volume (mm3)</th>\n",
       "      <th>Metastatic Sites</th>\n",
       "    </tr>\n",
       "  </thead>\n",
       "  <tbody>\n",
       "    <tr>\n",
       "      <td>0</td>\n",
       "      <td>b128</td>\n",
       "      <td>0</td>\n",
       "      <td>45.0</td>\n",
       "      <td>0</td>\n",
       "    </tr>\n",
       "    <tr>\n",
       "      <td>1</td>\n",
       "      <td>f932</td>\n",
       "      <td>0</td>\n",
       "      <td>45.0</td>\n",
       "      <td>0</td>\n",
       "    </tr>\n",
       "    <tr>\n",
       "      <td>2</td>\n",
       "      <td>g107</td>\n",
       "      <td>0</td>\n",
       "      <td>45.0</td>\n",
       "      <td>0</td>\n",
       "    </tr>\n",
       "    <tr>\n",
       "      <td>3</td>\n",
       "      <td>a457</td>\n",
       "      <td>0</td>\n",
       "      <td>45.0</td>\n",
       "      <td>0</td>\n",
       "    </tr>\n",
       "    <tr>\n",
       "      <td>4</td>\n",
       "      <td>c819</td>\n",
       "      <td>0</td>\n",
       "      <td>45.0</td>\n",
       "      <td>0</td>\n",
       "    </tr>\n",
       "  </tbody>\n",
       "</table>\n",
       "</div>"
      ],
      "text/plain": [
       "  Mouse ID  Timepoint  Tumor Volume (mm3)  Metastatic Sites\n",
       "0     b128          0                45.0                 0\n",
       "1     f932          0                45.0                 0\n",
       "2     g107          0                45.0                 0\n",
       "3     a457          0                45.0                 0\n",
       "4     c819          0                45.0                 0"
      ]
     },
     "execution_count": 7,
     "metadata": {},
     "output_type": "execute_result"
    }
   ],
   "source": [
    "study_results.head()"
   ]
  },
  {
   "cell_type": "code",
   "execution_count": 204,
   "metadata": {},
   "outputs": [
    {
     "data": {
      "text/html": [
       "<div>\n",
       "<style scoped>\n",
       "    .dataframe tbody tr th:only-of-type {\n",
       "        vertical-align: middle;\n",
       "    }\n",
       "\n",
       "    .dataframe tbody tr th {\n",
       "        vertical-align: top;\n",
       "    }\n",
       "\n",
       "    .dataframe thead th {\n",
       "        text-align: right;\n",
       "    }\n",
       "</style>\n",
       "<table border=\"1\" class=\"dataframe\">\n",
       "  <thead>\n",
       "    <tr style=\"text-align: right;\">\n",
       "      <th></th>\n",
       "      <th>Tumor Volume (mm3)</th>\n",
       "    </tr>\n",
       "    <tr>\n",
       "      <th>Mouse ID</th>\n",
       "      <th></th>\n",
       "    </tr>\n",
       "  </thead>\n",
       "  <tbody>\n",
       "    <tr>\n",
       "      <td>a203</td>\n",
       "      <td>56.312708</td>\n",
       "    </tr>\n",
       "    <tr>\n",
       "      <td>a251</td>\n",
       "      <td>55.237095</td>\n",
       "    </tr>\n",
       "    <tr>\n",
       "      <td>a262</td>\n",
       "      <td>58.611631</td>\n",
       "    </tr>\n",
       "    <tr>\n",
       "      <td>a275</td>\n",
       "      <td>52.770965</td>\n",
       "    </tr>\n",
       "    <tr>\n",
       "      <td>a366</td>\n",
       "      <td>54.639906</td>\n",
       "    </tr>\n",
       "  </tbody>\n",
       "</table>\n",
       "</div>"
      ],
      "text/plain": [
       "          Tumor Volume (mm3)\n",
       "Mouse ID                    \n",
       "a203               56.312708\n",
       "a251               55.237095\n",
       "a262               58.611631\n",
       "a275               52.770965\n",
       "a366               54.639906"
      ]
     },
     "execution_count": 204,
     "metadata": {},
     "output_type": "execute_result"
    }
   ],
   "source": [
    "sr_grouped = study_results[[\"Mouse ID\", \"Tumor Volume (mm3)\"]].groupby([\"Mouse ID\"]).mean()\n",
    "sr_grouped.head()"
   ]
  },
  {
   "cell_type": "code",
   "execution_count": 205,
   "metadata": {},
   "outputs": [
    {
     "data": {
      "text/html": [
       "<div>\n",
       "<style scoped>\n",
       "    .dataframe tbody tr th:only-of-type {\n",
       "        vertical-align: middle;\n",
       "    }\n",
       "\n",
       "    .dataframe tbody tr th {\n",
       "        vertical-align: top;\n",
       "    }\n",
       "\n",
       "    .dataframe thead th {\n",
       "        text-align: right;\n",
       "    }\n",
       "</style>\n",
       "<table border=\"1\" class=\"dataframe\">\n",
       "  <thead>\n",
       "    <tr style=\"text-align: right;\">\n",
       "      <th></th>\n",
       "      <th>Mouse ID</th>\n",
       "      <th>Tumor Volume (mm3)</th>\n",
       "      <th>Drug Regimen</th>\n",
       "      <th>Sex</th>\n",
       "      <th>Age_months</th>\n",
       "      <th>Weight (g)</th>\n",
       "    </tr>\n",
       "  </thead>\n",
       "  <tbody>\n",
       "    <tr>\n",
       "      <td>0</td>\n",
       "      <td>a203</td>\n",
       "      <td>56.312708</td>\n",
       "      <td>Infubinol</td>\n",
       "      <td>Female</td>\n",
       "      <td>20</td>\n",
       "      <td>23</td>\n",
       "    </tr>\n",
       "    <tr>\n",
       "      <td>1</td>\n",
       "      <td>a251</td>\n",
       "      <td>55.237095</td>\n",
       "      <td>Infubinol</td>\n",
       "      <td>Female</td>\n",
       "      <td>21</td>\n",
       "      <td>25</td>\n",
       "    </tr>\n",
       "    <tr>\n",
       "      <td>2</td>\n",
       "      <td>a262</td>\n",
       "      <td>58.611631</td>\n",
       "      <td>Placebo</td>\n",
       "      <td>Female</td>\n",
       "      <td>17</td>\n",
       "      <td>29</td>\n",
       "    </tr>\n",
       "    <tr>\n",
       "      <td>3</td>\n",
       "      <td>a275</td>\n",
       "      <td>52.770965</td>\n",
       "      <td>Ceftamin</td>\n",
       "      <td>Female</td>\n",
       "      <td>20</td>\n",
       "      <td>28</td>\n",
       "    </tr>\n",
       "    <tr>\n",
       "      <td>4</td>\n",
       "      <td>a366</td>\n",
       "      <td>54.639906</td>\n",
       "      <td>Stelasyn</td>\n",
       "      <td>Female</td>\n",
       "      <td>16</td>\n",
       "      <td>29</td>\n",
       "    </tr>\n",
       "  </tbody>\n",
       "</table>\n",
       "</div>"
      ],
      "text/plain": [
       "  Mouse ID  Tumor Volume (mm3) Drug Regimen     Sex  Age_months  Weight (g)\n",
       "0     a203           56.312708    Infubinol  Female          20          23\n",
       "1     a251           55.237095    Infubinol  Female          21          25\n",
       "2     a262           58.611631      Placebo  Female          17          29\n",
       "3     a275           52.770965     Ceftamin  Female          20          28\n",
       "4     a366           54.639906     Stelasyn  Female          16          29"
      ]
     },
     "execution_count": 205,
     "metadata": {},
     "output_type": "execute_result"
    }
   ],
   "source": [
    "sr_group_merge = sr_grouped.merge(mouse_metadata, on = \"Mouse ID\")\n",
    "sr_group_merge.head()"
   ]
  },
  {
   "cell_type": "code",
   "execution_count": 206,
   "metadata": {},
   "outputs": [],
   "source": [
    "summary_data_df = sr_group_merge[[\"Drug Regimen\", \"Tumor Volume (mm3)\"]].groupby(\"Drug Regimen\")\n",
    "summary_df = pd.DataFrame({\"Mean\":round(summary_data_df[\"Tumor Volume (mm3)\"].mean(),2),\n",
    "                           \"Median\":round(summary_data_df[\"Tumor Volume (mm3)\"].median(),2),\n",
    "                           \"Variance\":round(summary_data_df[\"Tumor Volume (mm3)\"].var(),2),\n",
    "                           \"Standard Deviation\":round(summary_data_df[\"Tumor Volume (mm3)\"].std(),2),\n",
    "                           \"SEM\":round(summary_data_df[\"Tumor Volume (mm3)\"].sem(),2)})"
   ]
  },
  {
   "cell_type": "code",
   "execution_count": 207,
   "metadata": {},
   "outputs": [
    {
     "data": {
      "text/html": [
       "<div>\n",
       "<style scoped>\n",
       "    .dataframe tbody tr th:only-of-type {\n",
       "        vertical-align: middle;\n",
       "    }\n",
       "\n",
       "    .dataframe tbody tr th {\n",
       "        vertical-align: top;\n",
       "    }\n",
       "\n",
       "    .dataframe thead th {\n",
       "        text-align: right;\n",
       "    }\n",
       "</style>\n",
       "<table border=\"1\" class=\"dataframe\">\n",
       "  <thead>\n",
       "    <tr style=\"text-align: right;\">\n",
       "      <th></th>\n",
       "      <th>Mean</th>\n",
       "      <th>Median</th>\n",
       "      <th>Variance</th>\n",
       "      <th>Standard Deviation</th>\n",
       "      <th>SEM</th>\n",
       "    </tr>\n",
       "    <tr>\n",
       "      <th>Drug Regimen</th>\n",
       "      <th></th>\n",
       "      <th></th>\n",
       "      <th></th>\n",
       "      <th></th>\n",
       "      <th></th>\n",
       "    </tr>\n",
       "  </thead>\n",
       "  <tbody>\n",
       "    <tr>\n",
       "      <td>Capomulin</td>\n",
       "      <td>40.76</td>\n",
       "      <td>41.38</td>\n",
       "      <td>10.53</td>\n",
       "      <td>3.24</td>\n",
       "      <td>0.65</td>\n",
       "    </tr>\n",
       "    <tr>\n",
       "      <td>Ceftamin</td>\n",
       "      <td>50.83</td>\n",
       "      <td>52.13</td>\n",
       "      <td>14.04</td>\n",
       "      <td>3.75</td>\n",
       "      <td>0.75</td>\n",
       "    </tr>\n",
       "    <tr>\n",
       "      <td>Infubinol</td>\n",
       "      <td>51.38</td>\n",
       "      <td>51.90</td>\n",
       "      <td>17.38</td>\n",
       "      <td>4.17</td>\n",
       "      <td>0.83</td>\n",
       "    </tr>\n",
       "    <tr>\n",
       "      <td>Ketapril</td>\n",
       "      <td>53.43</td>\n",
       "      <td>53.73</td>\n",
       "      <td>24.09</td>\n",
       "      <td>4.91</td>\n",
       "      <td>0.98</td>\n",
       "    </tr>\n",
       "    <tr>\n",
       "      <td>Naftisol</td>\n",
       "      <td>52.50</td>\n",
       "      <td>53.35</td>\n",
       "      <td>22.89</td>\n",
       "      <td>4.78</td>\n",
       "      <td>0.96</td>\n",
       "    </tr>\n",
       "    <tr>\n",
       "      <td>Placebo</td>\n",
       "      <td>52.54</td>\n",
       "      <td>53.39</td>\n",
       "      <td>19.61</td>\n",
       "      <td>4.43</td>\n",
       "      <td>0.89</td>\n",
       "    </tr>\n",
       "    <tr>\n",
       "      <td>Propriva</td>\n",
       "      <td>50.56</td>\n",
       "      <td>49.92</td>\n",
       "      <td>15.12</td>\n",
       "      <td>3.89</td>\n",
       "      <td>0.78</td>\n",
       "    </tr>\n",
       "    <tr>\n",
       "      <td>Ramicane</td>\n",
       "      <td>40.56</td>\n",
       "      <td>40.11</td>\n",
       "      <td>10.26</td>\n",
       "      <td>3.20</td>\n",
       "      <td>0.64</td>\n",
       "    </tr>\n",
       "    <tr>\n",
       "      <td>Stelasyn</td>\n",
       "      <td>52.66</td>\n",
       "      <td>52.65</td>\n",
       "      <td>22.15</td>\n",
       "      <td>4.71</td>\n",
       "      <td>0.96</td>\n",
       "    </tr>\n",
       "    <tr>\n",
       "      <td>Zoniferol</td>\n",
       "      <td>51.56</td>\n",
       "      <td>52.44</td>\n",
       "      <td>16.78</td>\n",
       "      <td>4.10</td>\n",
       "      <td>0.82</td>\n",
       "    </tr>\n",
       "  </tbody>\n",
       "</table>\n",
       "</div>"
      ],
      "text/plain": [
       "               Mean  Median  Variance  Standard Deviation   SEM\n",
       "Drug Regimen                                                   \n",
       "Capomulin     40.76   41.38     10.53                3.24  0.65\n",
       "Ceftamin      50.83   52.13     14.04                3.75  0.75\n",
       "Infubinol     51.38   51.90     17.38                4.17  0.83\n",
       "Ketapril      53.43   53.73     24.09                4.91  0.98\n",
       "Naftisol      52.50   53.35     22.89                4.78  0.96\n",
       "Placebo       52.54   53.39     19.61                4.43  0.89\n",
       "Propriva      50.56   49.92     15.12                3.89  0.78\n",
       "Ramicane      40.56   40.11     10.26                3.20  0.64\n",
       "Stelasyn      52.66   52.65     22.15                4.71  0.96\n",
       "Zoniferol     51.56   52.44     16.78                4.10  0.82"
      ]
     },
     "execution_count": 207,
     "metadata": {},
     "output_type": "execute_result"
    }
   ],
   "source": [
    "summary_df"
   ]
  },
  {
   "cell_type": "markdown",
   "metadata": {},
   "source": [
    "## Bar plots"
   ]
  },
  {
   "cell_type": "code",
   "execution_count": 3,
   "metadata": {},
   "outputs": [],
   "source": [
    "# Generate a bar plot showing number of data points for each treatment regimen using pandas"
   ]
  },
  {
   "cell_type": "code",
   "execution_count": 48,
   "metadata": {},
   "outputs": [
    {
     "data": {
      "text/html": [
       "<div>\n",
       "<style scoped>\n",
       "    .dataframe tbody tr th:only-of-type {\n",
       "        vertical-align: middle;\n",
       "    }\n",
       "\n",
       "    .dataframe tbody tr th {\n",
       "        vertical-align: top;\n",
       "    }\n",
       "\n",
       "    .dataframe thead th {\n",
       "        text-align: right;\n",
       "    }\n",
       "</style>\n",
       "<table border=\"1\" class=\"dataframe\">\n",
       "  <thead>\n",
       "    <tr style=\"text-align: right;\">\n",
       "      <th></th>\n",
       "      <th>Mouse ID</th>\n",
       "      <th>Timepoint</th>\n",
       "      <th>Tumor Volume (mm3)</th>\n",
       "      <th>Metastatic Sites</th>\n",
       "      <th>Drug Regimen</th>\n",
       "      <th>Sex</th>\n",
       "      <th>Age_months</th>\n",
       "      <th>Weight (g)</th>\n",
       "    </tr>\n",
       "  </thead>\n",
       "  <tbody>\n",
       "    <tr>\n",
       "      <td>0</td>\n",
       "      <td>b128</td>\n",
       "      <td>0</td>\n",
       "      <td>45.000000</td>\n",
       "      <td>0</td>\n",
       "      <td>Capomulin</td>\n",
       "      <td>Female</td>\n",
       "      <td>9</td>\n",
       "      <td>22</td>\n",
       "    </tr>\n",
       "    <tr>\n",
       "      <td>1</td>\n",
       "      <td>b128</td>\n",
       "      <td>5</td>\n",
       "      <td>45.651331</td>\n",
       "      <td>0</td>\n",
       "      <td>Capomulin</td>\n",
       "      <td>Female</td>\n",
       "      <td>9</td>\n",
       "      <td>22</td>\n",
       "    </tr>\n",
       "    <tr>\n",
       "      <td>2</td>\n",
       "      <td>b128</td>\n",
       "      <td>10</td>\n",
       "      <td>43.270852</td>\n",
       "      <td>0</td>\n",
       "      <td>Capomulin</td>\n",
       "      <td>Female</td>\n",
       "      <td>9</td>\n",
       "      <td>22</td>\n",
       "    </tr>\n",
       "    <tr>\n",
       "      <td>3</td>\n",
       "      <td>b128</td>\n",
       "      <td>15</td>\n",
       "      <td>43.784893</td>\n",
       "      <td>0</td>\n",
       "      <td>Capomulin</td>\n",
       "      <td>Female</td>\n",
       "      <td>9</td>\n",
       "      <td>22</td>\n",
       "    </tr>\n",
       "    <tr>\n",
       "      <td>4</td>\n",
       "      <td>b128</td>\n",
       "      <td>20</td>\n",
       "      <td>42.731552</td>\n",
       "      <td>0</td>\n",
       "      <td>Capomulin</td>\n",
       "      <td>Female</td>\n",
       "      <td>9</td>\n",
       "      <td>22</td>\n",
       "    </tr>\n",
       "  </tbody>\n",
       "</table>\n",
       "</div>"
      ],
      "text/plain": [
       "  Mouse ID  Timepoint  Tumor Volume (mm3)  Metastatic Sites Drug Regimen  \\\n",
       "0     b128          0           45.000000                 0    Capomulin   \n",
       "1     b128          5           45.651331                 0    Capomulin   \n",
       "2     b128         10           43.270852                 0    Capomulin   \n",
       "3     b128         15           43.784893                 0    Capomulin   \n",
       "4     b128         20           42.731552                 0    Capomulin   \n",
       "\n",
       "      Sex  Age_months  Weight (g)  \n",
       "0  Female           9          22  \n",
       "1  Female           9          22  \n",
       "2  Female           9          22  \n",
       "3  Female           9          22  \n",
       "4  Female           9          22  "
      ]
     },
     "execution_count": 48,
     "metadata": {},
     "output_type": "execute_result"
    }
   ],
   "source": [
    "big_merge = study_results.merge(mouse_metadata, on = \"Mouse ID\")\n",
    "big_merge.head()"
   ]
  },
  {
   "cell_type": "code",
   "execution_count": 217,
   "metadata": {},
   "outputs": [
    {
     "data": {
      "text/html": [
       "<div>\n",
       "<style scoped>\n",
       "    .dataframe tbody tr th:only-of-type {\n",
       "        vertical-align: middle;\n",
       "    }\n",
       "\n",
       "    .dataframe tbody tr th {\n",
       "        vertical-align: top;\n",
       "    }\n",
       "\n",
       "    .dataframe thead th {\n",
       "        text-align: right;\n",
       "    }\n",
       "</style>\n",
       "<table border=\"1\" class=\"dataframe\">\n",
       "  <thead>\n",
       "    <tr style=\"text-align: right;\">\n",
       "      <th></th>\n",
       "      <th>Count Data Points</th>\n",
       "    </tr>\n",
       "    <tr>\n",
       "      <th>Drug Regimen</th>\n",
       "      <th></th>\n",
       "    </tr>\n",
       "  </thead>\n",
       "  <tbody>\n",
       "    <tr>\n",
       "      <td>Capomulin</td>\n",
       "      <td>230</td>\n",
       "    </tr>\n",
       "    <tr>\n",
       "      <td>Ramicane</td>\n",
       "      <td>228</td>\n",
       "    </tr>\n",
       "    <tr>\n",
       "      <td>Ketapril</td>\n",
       "      <td>188</td>\n",
       "    </tr>\n",
       "    <tr>\n",
       "      <td>Naftisol</td>\n",
       "      <td>186</td>\n",
       "    </tr>\n",
       "    <tr>\n",
       "      <td>Zoniferol</td>\n",
       "      <td>182</td>\n",
       "    </tr>\n",
       "    <tr>\n",
       "      <td>Placebo</td>\n",
       "      <td>181</td>\n",
       "    </tr>\n",
       "    <tr>\n",
       "      <td>Stelasyn</td>\n",
       "      <td>181</td>\n",
       "    </tr>\n",
       "    <tr>\n",
       "      <td>Ceftamin</td>\n",
       "      <td>178</td>\n",
       "    </tr>\n",
       "    <tr>\n",
       "      <td>Infubinol</td>\n",
       "      <td>178</td>\n",
       "    </tr>\n",
       "    <tr>\n",
       "      <td>Propriva</td>\n",
       "      <td>161</td>\n",
       "    </tr>\n",
       "  </tbody>\n",
       "</table>\n",
       "</div>"
      ],
      "text/plain": [
       "              Count Data Points\n",
       "Drug Regimen                   \n",
       "Capomulin                   230\n",
       "Ramicane                    228\n",
       "Ketapril                    188\n",
       "Naftisol                    186\n",
       "Zoniferol                   182\n",
       "Placebo                     181\n",
       "Stelasyn                    181\n",
       "Ceftamin                    178\n",
       "Infubinol                   178\n",
       "Propriva                    161"
      ]
     },
     "execution_count": 217,
     "metadata": {},
     "output_type": "execute_result"
    }
   ],
   "source": [
    "group_big_merge = big_merge[[\"Drug Regimen\", \"Mouse ID\"]].groupby(\"Drug Regimen\").count()\n",
    "group_big_merge = group_big_merge.rename(columns = {\"Mouse ID\" : \"Count Data Points\"}).sort_values(\"Count Data Points\",ascending = False)\n",
    "group_big_merge"
   ]
  },
  {
   "cell_type": "code",
   "execution_count": 218,
   "metadata": {},
   "outputs": [
    {
     "data": {
      "text/plain": [
       "<matplotlib.axes._subplots.AxesSubplot at 0x1a2833a3d0>"
      ]
     },
     "execution_count": 218,
     "metadata": {},
     "output_type": "execute_result"
    },
    {
     "data": {
      "image/png": "[encoded data removed]",
      "text/plain": [
       "<Figure size 432x288 with 1 Axes>"
      ]
     },
     "metadata": {
      "needs_background": "light"
     },
     "output_type": "display_data"
    }
   ],
   "source": [
    "group_big_merge.plot(kind = \"bar\", width = .5, title = \"Data Points by Drug Regimen\")"
   ]
  },
  {
   "cell_type": "code",
   "execution_count": 4,
   "metadata": {},
   "outputs": [],
   "source": [
    "# Generate a bar plot showing number of data points for each treatment regimen using pyplot"
   ]
  },
  {
   "cell_type": "code",
   "execution_count": 221,
   "metadata": {},
   "outputs": [
    {
     "data": {
      "text/plain": [
       "<matplotlib.legend.Legend at 0x1a27ce26d0>"
      ]
     },
     "execution_count": 221,
     "metadata": {},
     "output_type": "execute_result"
    },
    {
     "data": {
      "image/png": "[encoded data removed]",
      "text/plain": [
       "<Figure size 432x288 with 1 Axes>"
      ]
     },
     "metadata": {
      "needs_background": "light"
     },
     "output_type": "display_data"
    }
   ],
   "source": [
    "plt.bar(group_big_merge.index, group_big_merge[\"Count Data Points\"].sort_values(ascending = False), width = .5, label = \"Count Data Points\")\n",
    "plt.xticks(rotation='vertical')\n",
    "plt.xlabel(\"Drug Regimen\")\n",
    "plt.title(\"Data Points by Drug Regimen\")\n",
    "plt.legend(loc = 'upper right')"
   ]
  },
  {
   "cell_type": "markdown",
   "metadata": {},
   "source": [
    "## Pie plots"
   ]
  },
  {
   "cell_type": "code",
   "execution_count": 5,
   "metadata": {},
   "outputs": [],
   "source": [
    "# Generate a pie plot showing the distribution of female versus male mice using pandas"
   ]
  },
  {
   "cell_type": "code",
   "execution_count": 91,
   "metadata": {},
   "outputs": [
    {
     "data": {
      "text/html": [
       "<div>\n",
       "<style scoped>\n",
       "    .dataframe tbody tr th:only-of-type {\n",
       "        vertical-align: middle;\n",
       "    }\n",
       "\n",
       "    .dataframe tbody tr th {\n",
       "        vertical-align: top;\n",
       "    }\n",
       "\n",
       "    .dataframe thead th {\n",
       "        text-align: right;\n",
       "    }\n",
       "</style>\n",
       "<table border=\"1\" class=\"dataframe\">\n",
       "  <thead>\n",
       "    <tr style=\"text-align: right;\">\n",
       "      <th></th>\n",
       "      <th>Count</th>\n",
       "    </tr>\n",
       "    <tr>\n",
       "      <th>Sex</th>\n",
       "      <th></th>\n",
       "    </tr>\n",
       "  </thead>\n",
       "  <tbody>\n",
       "    <tr>\n",
       "      <td>Female</td>\n",
       "      <td>124</td>\n",
       "    </tr>\n",
       "    <tr>\n",
       "      <td>Male</td>\n",
       "      <td>125</td>\n",
       "    </tr>\n",
       "  </tbody>\n",
       "</table>\n",
       "</div>"
      ],
      "text/plain": [
       "        Count\n",
       "Sex          \n",
       "Female    124\n",
       "Male      125"
      ]
     },
     "execution_count": 91,
     "metadata": {},
     "output_type": "execute_result"
    }
   ],
   "source": [
    "gender_df = mouse_metadata[[\"Mouse ID\", \"Sex\"]].groupby(\"Sex\").count()\n",
    "gender_df = gender_df.rename(columns = {\"Mouse ID\" : \"Count\"})\n",
    "gender_df"
   ]
  },
  {
   "cell_type": "code",
   "execution_count": 120,
   "metadata": {},
   "outputs": [
    {
     "data": {
      "text/plain": [
       "<matplotlib.axes._subplots.AxesSubplot at 0x1a26854210>"
      ]
     },
     "execution_count": 120,
     "metadata": {},
     "output_type": "execute_result"
    },
    {
     "data": {
      "image/png": "[encoded data removed]",
      "text/plain": [
       "<Figure size 432x288 with 1 Axes>"
      ]
     },
     "metadata": {},
     "output_type": "display_data"
    }
   ],
   "source": [
    "gender_df.plot(kind = \"pie\",y = \"Count\", startangle=45, title = \"Distribution of Gender\", autopct = '%1.1f%%')"
   ]
  },
  {
   "cell_type": "code",
   "execution_count": 6,
   "metadata": {},
   "outputs": [],
   "source": [
    "# Generate a pie plot showing the distribution of female versus male mice using pyplot"
   ]
  },
  {
   "cell_type": "code",
   "execution_count": 112,
   "metadata": {},
   "outputs": [
    {
     "data": {
      "text/plain": [
       "<matplotlib.legend.Legend at 0x1a26618f90>"
      ]
     },
     "execution_count": 112,
     "metadata": {},
     "output_type": "execute_result"
    },
    {
     "data": {
      "image/png": "[encoded data removed]",
      "text/plain": [
       "<Figure size 432x288 with 1 Axes>"
      ]
     },
     "metadata": {},
     "output_type": "display_data"
    }
   ],
   "source": [
    "plt.pie(gender_df[\"Count\"], labels = gender_df.index, startangle=45, autopct = '%1.1f%%')\n",
    "plt.title(\"Distribution by Gender\")\n",
    "plt.ylabel(\"Percentage\")\n",
    "plt.legend(loc=\"upper right\")"
   ]
  },
  {
   "cell_type": "markdown",
   "metadata": {},
   "source": [
    "## Quartiles, outliers and boxplots"
   ]
  },
  {
   "cell_type": "code",
   "execution_count": 7,
   "metadata": {},
   "outputs": [],
   "source": [
    "# Calculate the final tumor volume of each mouse across four of the most promising treatment regimens. \n",
    "# Capomulin, Ramicane, Infubinol, and Ceftamin\n",
    "# Calculate the IQR and quantitatively determine if there are any potential outliers. "
   ]
  },
  {
   "cell_type": "code",
   "execution_count": 140,
   "metadata": {},
   "outputs": [
    {
     "data": {
      "text/html": [
       "<div>\n",
       "<style scoped>\n",
       "    .dataframe tbody tr th:only-of-type {\n",
       "        vertical-align: middle;\n",
       "    }\n",
       "\n",
       "    .dataframe tbody tr th {\n",
       "        vertical-align: top;\n",
       "    }\n",
       "\n",
       "    .dataframe thead th {\n",
       "        text-align: right;\n",
       "    }\n",
       "</style>\n",
       "<table border=\"1\" class=\"dataframe\">\n",
       "  <thead>\n",
       "    <tr style=\"text-align: right;\">\n",
       "      <th></th>\n",
       "      <th>Drug Regimen</th>\n",
       "      <th>Tumor Volume (mm3)</th>\n",
       "    </tr>\n",
       "    <tr>\n",
       "      <th>Mouse ID</th>\n",
       "      <th></th>\n",
       "      <th></th>\n",
       "    </tr>\n",
       "  </thead>\n",
       "  <tbody>\n",
       "    <tr>\n",
       "      <td>a203</td>\n",
       "      <td>Infubinol</td>\n",
       "      <td>67.973419</td>\n",
       "    </tr>\n",
       "    <tr>\n",
       "      <td>a251</td>\n",
       "      <td>Infubinol</td>\n",
       "      <td>65.525743</td>\n",
       "    </tr>\n",
       "    <tr>\n",
       "      <td>a262</td>\n",
       "      <td>Placebo</td>\n",
       "      <td>70.717621</td>\n",
       "    </tr>\n",
       "    <tr>\n",
       "      <td>a275</td>\n",
       "      <td>Ceftamin</td>\n",
       "      <td>62.999356</td>\n",
       "    </tr>\n",
       "    <tr>\n",
       "      <td>a366</td>\n",
       "      <td>Stelasyn</td>\n",
       "      <td>63.440686</td>\n",
       "    </tr>\n",
       "  </tbody>\n",
       "</table>\n",
       "</div>"
      ],
      "text/plain": [
       "         Drug Regimen  Tumor Volume (mm3)\n",
       "Mouse ID                                 \n",
       "a203        Infubinol           67.973419\n",
       "a251        Infubinol           65.525743\n",
       "a262          Placebo           70.717621\n",
       "a275         Ceftamin           62.999356\n",
       "a366         Stelasyn           63.440686"
      ]
     },
     "execution_count": 140,
     "metadata": {},
     "output_type": "execute_result"
    }
   ],
   "source": [
    "bm_sorted = big_merge[[\"Mouse ID\", \"Tumor Volume (mm3)\", \"Timepoint\",\"Drug Regimen\"]].sort_values(by = [\"Timepoint\"], ascending = False)\n",
    "bm_sorted_grouped = bm_sorted[[\"Mouse ID\",\"Drug Regimen\", \"Tumor Volume (mm3)\"]].groupby(\"Mouse ID\").first()\n",
    "bm_sorted_grouped.head()"
   ]
  },
  {
   "cell_type": "code",
   "execution_count": 180,
   "metadata": {},
   "outputs": [],
   "source": [
    "capomulin_df = bm_sorted_grouped.loc[bm_sorted_grouped[\"Drug Regimen\"] == \"Capomulin\"]\n",
    "ramicane_df = bm_sorted_grouped.loc[bm_sorted_grouped[\"Drug Regimen\"] == \"Ramicane\"]\n",
    "infubinol_df = bm_sorted_grouped.loc[bm_sorted_grouped[\"Drug Regimen\"] == \"Infubinol\"]\n",
    "ceftamin_df = bm_sorted_grouped.loc[bm_sorted_grouped[\"Drug Regimen\"] == \"Ceftamin\"]"
   ]
  },
  {
   "cell_type": "code",
   "execution_count": 222,
   "metadata": {},
   "outputs": [
    {
     "data": {
      "text/html": [
       "<div>\n",
       "<style scoped>\n",
       "    .dataframe tbody tr th:only-of-type {\n",
       "        vertical-align: middle;\n",
       "    }\n",
       "\n",
       "    .dataframe tbody tr th {\n",
       "        vertical-align: top;\n",
       "    }\n",
       "\n",
       "    .dataframe thead th {\n",
       "        text-align: right;\n",
       "    }\n",
       "</style>\n",
       "<table border=\"1\" class=\"dataframe\">\n",
       "  <thead>\n",
       "    <tr style=\"text-align: right;\">\n",
       "      <th></th>\n",
       "      <th>Count Outliers</th>\n",
       "      <th>Lower Bound</th>\n",
       "      <th>Lower Quartile</th>\n",
       "      <th>Median</th>\n",
       "      <th>Upper Quartile</th>\n",
       "      <th>Upper Bound</th>\n",
       "      <th>IQR</th>\n",
       "    </tr>\n",
       "  </thead>\n",
       "  <tbody>\n",
       "    <tr>\n",
       "      <td>Capomulin</td>\n",
       "      <td>0</td>\n",
       "      <td>20.704562</td>\n",
       "      <td>32.377357</td>\n",
       "      <td>38.125164</td>\n",
       "      <td>40.15922</td>\n",
       "      <td>51.832015</td>\n",
       "      <td>7.781863</td>\n",
       "    </tr>\n",
       "  </tbody>\n",
       "</table>\n",
       "</div>"
      ],
      "text/plain": [
       "           Count Outliers  Lower Bound  Lower Quartile     Median  \\\n",
       "Capomulin               0    20.704562       32.377357  38.125164   \n",
       "\n",
       "           Upper Quartile  Upper Bound       IQR  \n",
       "Capomulin        40.15922    51.832015  7.781863  "
      ]
     },
     "execution_count": 222,
     "metadata": {},
     "output_type": "execute_result"
    }
   ],
   "source": [
    "capomulin_q_data = capomulin_df[\"Tumor Volume (mm3)\"].quantile([.25,.5,.75])\n",
    "capomulin_lq = capomulin_q_data[.25]\n",
    "capomulin_uq = capomulin_q_data[.75]\n",
    "capomulin_iqr = capomulin_uq - capomulin_lq\n",
    "capomulin_lb = capomulin_lq - (1.5 * capomulin_iqr)\n",
    "capomulin_ub = capomulin_uq + (1.5 * capomulin_iqr)\n",
    "\n",
    "capomulin_outliers = capomulin_df[\"Tumor Volume (mm3)\"].loc[(capomulin_df[\"Tumor Volume (mm3)\"] > capomulin_ub) | (capomulin_df[\"Tumor Volume (mm3)\"] < capomulin_lb)].count()\n",
    "capomulin_outliers_df = pd.DataFrame({'Count Outliers': [capomulin_outliers],\n",
    "                                     \"Lower Bound\": capomulin_lb,\n",
    "                                     \"Lower Quartile\": capomulin_lq,\n",
    "                                     \"Median\": capomulin_q_data[.5],\n",
    "                                     \"Upper Quartile\":capomulin_uq,\n",
    "                                     \"Upper Bound\": capomulin_ub,\n",
    "                                     \"IQR\": capomulin_iqr}, index = [\"Capomulin\"])        \n",
    "capomulin_outliers_df\n"
   ]
  },
  {
   "cell_type": "code",
   "execution_count": 226,
   "metadata": {},
   "outputs": [
    {
     "data": {
      "text/html": [
       "<div>\n",
       "<style scoped>\n",
       "    .dataframe tbody tr th:only-of-type {\n",
       "        vertical-align: middle;\n",
       "    }\n",
       "\n",
       "    .dataframe tbody tr th {\n",
       "        vertical-align: top;\n",
       "    }\n",
       "\n",
       "    .dataframe thead th {\n",
       "        text-align: right;\n",
       "    }\n",
       "</style>\n",
       "<table border=\"1\" class=\"dataframe\">\n",
       "  <thead>\n",
       "    <tr style=\"text-align: right;\">\n",
       "      <th></th>\n",
       "      <th>Count Outliers</th>\n",
       "      <th>Lower Bound</th>\n",
       "      <th>Lower Quartile</th>\n",
       "      <th>Median</th>\n",
       "      <th>Upper Quartile</th>\n",
       "      <th>Upper Bound</th>\n",
       "      <th>IQR</th>\n",
       "    </tr>\n",
       "  </thead>\n",
       "  <tbody>\n",
       "    <tr>\n",
       "      <td>Ramicane</td>\n",
       "      <td>0</td>\n",
       "      <td>17.912664</td>\n",
       "      <td>31.56047</td>\n",
       "      <td>36.561652</td>\n",
       "      <td>40.659006</td>\n",
       "      <td>54.306811</td>\n",
       "      <td>9.098537</td>\n",
       "    </tr>\n",
       "  </tbody>\n",
       "</table>\n",
       "</div>"
      ],
      "text/plain": [
       "          Count Outliers  Lower Bound  Lower Quartile     Median  \\\n",
       "Ramicane               0    17.912664        31.56047  36.561652   \n",
       "\n",
       "          Upper Quartile  Upper Bound       IQR  \n",
       "Ramicane       40.659006    54.306811  9.098537  "
      ]
     },
     "execution_count": 226,
     "metadata": {},
     "output_type": "execute_result"
    }
   ],
   "source": [
    "ramicane_q_data = ramicane_df[\"Tumor Volume (mm3)\"].quantile([.25,.5,.75])\n",
    "ramicane_lq = ramicane_q_data[.25]\n",
    "ramicane_uq = ramicane_q_data[.75]\n",
    "ramicane_iqr = ramicane_uq - ramicane_lq\n",
    "ramicane_lb = ramicane_lq - (1.5 * ramicane_iqr)\n",
    "ramicane_ub = ramicane_uq + (1.5 * ramicane_iqr)\n",
    "\n",
    "ramicane_outliers = ramicane_df[\"Tumor Volume (mm3)\"].loc[(ramicane_df[\"Tumor Volume (mm3)\"] > ramicane_ub) | (ramicane_df[\"Tumor Volume (mm3)\"] < ramicane_lb)].count()\n",
    "ramicane_outliers_df = pd.DataFrame({'Count Outliers': [ramicane_outliers],\n",
    "                                     \"Lower Bound\": ramicane_lb,\n",
    "                                     \"Lower Quartile\": ramicane_lq,\n",
    "                                     \"Median\": ramicane_q_data[.5],\n",
    "                                     \"Upper Quartile\":ramicane_uq,\n",
    "                                     \"Upper Bound\": ramicane_ub,\n",
    "                                     \"IQR\": ramicane_iqr}, index = [\"Ramicane\"])  \n",
    "\n",
    "ramicane_outliers_df\n"
   ]
  },
  {
   "cell_type": "code",
   "execution_count": 225,
   "metadata": {},
   "outputs": [
    {
     "data": {
      "text/html": [
       "<div>\n",
       "<style scoped>\n",
       "    .dataframe tbody tr th:only-of-type {\n",
       "        vertical-align: middle;\n",
       "    }\n",
       "\n",
       "    .dataframe tbody tr th {\n",
       "        vertical-align: top;\n",
       "    }\n",
       "\n",
       "    .dataframe thead th {\n",
       "        text-align: right;\n",
       "    }\n",
       "</style>\n",
       "<table border=\"1\" class=\"dataframe\">\n",
       "  <thead>\n",
       "    <tr style=\"text-align: right;\">\n",
       "      <th></th>\n",
       "      <th>Count Outliers</th>\n",
       "      <th>Lower Bound</th>\n",
       "      <th>Lower Quartile</th>\n",
       "      <th>Median</th>\n",
       "      <th>Upper Quartile</th>\n",
       "      <th>Upper Bound</th>\n",
       "      <th>IQR</th>\n",
       "    </tr>\n",
       "  </thead>\n",
       "  <tbody>\n",
       "    <tr>\n",
       "      <td>Infubinol</td>\n",
       "      <td>1</td>\n",
       "      <td>36.832905</td>\n",
       "      <td>54.048608</td>\n",
       "      <td>60.16518</td>\n",
       "      <td>65.525743</td>\n",
       "      <td>82.741446</td>\n",
       "      <td>11.477135</td>\n",
       "    </tr>\n",
       "  </tbody>\n",
       "</table>\n",
       "</div>"
      ],
      "text/plain": [
       "           Count Outliers  Lower Bound  Lower Quartile    Median  \\\n",
       "Infubinol               1    36.832905       54.048608  60.16518   \n",
       "\n",
       "           Upper Quartile  Upper Bound        IQR  \n",
       "Infubinol       65.525743    82.741446  11.477135  "
      ]
     },
     "execution_count": 225,
     "metadata": {},
     "output_type": "execute_result"
    }
   ],
   "source": [
    "infubinol_q_data = infubinol_df[\"Tumor Volume (mm3)\"].quantile([.25,.5,.75])\n",
    "infubinol_lq = infubinol_q_data[.25]\n",
    "infubinol_uq = infubinol_q_data[.75]\n",
    "infubinol_iqr = infubinol_uq - infubinol_lq\n",
    "infubinol_lb = infubinol_lq - (1.5 * infubinol_iqr)\n",
    "infubinol_ub = infubinol_uq + (1.5 * infubinol_iqr)\n",
    "\n",
    "infubinol_outliers = infubinol_df[\"Tumor Volume (mm3)\"].loc[(infubinol_df[\"Tumor Volume (mm3)\"] > infubinol_ub) | (infubinol_df[\"Tumor Volume (mm3)\"] < infubinol_lb)].count()\n",
    "infubinol_outliers_df = pd.DataFrame({'Count Outliers': [infubinol_outliers],\n",
    "                                     \"Lower Bound\": infubinol_lb,\n",
    "                                     \"Lower Quartile\": infubinol_lq,\n",
    "                                     \"Median\": infubinol_q_data[.5],\n",
    "                                     \"Upper Quartile\":infubinol_uq,\n",
    "                                     \"Upper Bound\": infubinol_ub,\n",
    "                                     \"IQR\": infubinol_iqr}, index = [\"Infubinol\"])        \n",
    "infubinol_outliers_df"
   ]
  },
  {
   "cell_type": "code",
   "execution_count": 227,
   "metadata": {},
   "outputs": [
    {
     "data": {
      "text/html": [
       "<div>\n",
       "<style scoped>\n",
       "    .dataframe tbody tr th:only-of-type {\n",
       "        vertical-align: middle;\n",
       "    }\n",
       "\n",
       "    .dataframe tbody tr th {\n",
       "        vertical-align: top;\n",
       "    }\n",
       "\n",
       "    .dataframe thead th {\n",
       "        text-align: right;\n",
       "    }\n",
       "</style>\n",
       "<table border=\"1\" class=\"dataframe\">\n",
       "  <thead>\n",
       "    <tr style=\"text-align: right;\">\n",
       "      <th></th>\n",
       "      <th>Count Outliers</th>\n",
       "      <th>Lower Bound</th>\n",
       "      <th>Lower Quartile</th>\n",
       "      <th>Median</th>\n",
       "      <th>Upper Quartile</th>\n",
       "      <th>Upper Bound</th>\n",
       "      <th>IQR</th>\n",
       "    </tr>\n",
       "  </thead>\n",
       "  <tbody>\n",
       "    <tr>\n",
       "      <td>Ceftamin</td>\n",
       "      <td>0</td>\n",
       "      <td>25.35545</td>\n",
       "      <td>48.722078</td>\n",
       "      <td>59.851956</td>\n",
       "      <td>64.29983</td>\n",
       "      <td>87.666458</td>\n",
       "      <td>15.577752</td>\n",
       "    </tr>\n",
       "  </tbody>\n",
       "</table>\n",
       "</div>"
      ],
      "text/plain": [
       "          Count Outliers  Lower Bound  Lower Quartile     Median  \\\n",
       "Ceftamin               0     25.35545       48.722078  59.851956   \n",
       "\n",
       "          Upper Quartile  Upper Bound        IQR  \n",
       "Ceftamin        64.29983    87.666458  15.577752  "
      ]
     },
     "execution_count": 227,
     "metadata": {},
     "output_type": "execute_result"
    }
   ],
   "source": [
    "ceftamin_q_data = ceftamin_df[\"Tumor Volume (mm3)\"].quantile([.25,.5,.75])\n",
    "ceftamin_lq = ceftamin_q_data[.25]\n",
    "ceftamin_uq = ceftamin_q_data[.75]\n",
    "ceftamin_iqr = ceftamin_uq - ceftamin_lq\n",
    "ceftamin_lb = ceftamin_lq - (1.5 * ceftamin_iqr)\n",
    "ceftamin_ub = ceftamin_uq + (1.5 * ceftamin_iqr)\n",
    "\n",
    "ceftamin_outliers = ceftamin_df[\"Tumor Volume (mm3)\"].loc[(ceftamin_df[\"Tumor Volume (mm3)\"] > ceftamin_ub) | (ceftamin_df[\"Tumor Volume (mm3)\"] < ceftamin_lb)].count()\n",
    "ceftamin_outliers_df = pd.DataFrame({'Count Outliers': [ceftamin_outliers],\n",
    "                                     \"Lower Bound\": ceftamin_lb,\n",
    "                                     \"Lower Quartile\": ceftamin_lq,\n",
    "                                     \"Median\": ceftamin_q_data[.5],\n",
    "                                     \"Upper Quartile\":ceftamin_uq,\n",
    "                                     \"Upper Bound\": ceftamin_ub,\n",
    "                                     \"IQR\": ceftamin_iqr}, index = [\"Ceftamin\"])        \n",
    "ceftamin_outliers_df"
   ]
  },
  {
   "cell_type": "code",
   "execution_count": 230,
   "metadata": {},
   "outputs": [
    {
     "data": {
      "text/html": [
       "<div>\n",
       "<style scoped>\n",
       "    .dataframe tbody tr th:only-of-type {\n",
       "        vertical-align: middle;\n",
       "    }\n",
       "\n",
       "    .dataframe tbody tr th {\n",
       "        vertical-align: top;\n",
       "    }\n",
       "\n",
       "    .dataframe thead th {\n",
       "        text-align: right;\n",
       "    }\n",
       "</style>\n",
       "<table border=\"1\" class=\"dataframe\">\n",
       "  <thead>\n",
       "    <tr style=\"text-align: right;\">\n",
       "      <th></th>\n",
       "      <th>Count Outliers</th>\n",
       "      <th>Lower Bound</th>\n",
       "      <th>Lower Quartile</th>\n",
       "      <th>Median</th>\n",
       "      <th>Upper Quartile</th>\n",
       "      <th>Upper Bound</th>\n",
       "      <th>IQR</th>\n",
       "    </tr>\n",
       "  </thead>\n",
       "  <tbody>\n",
       "    <tr>\n",
       "      <td>Capomulin</td>\n",
       "      <td>0</td>\n",
       "      <td>20.704562</td>\n",
       "      <td>32.377357</td>\n",
       "      <td>38.125164</td>\n",
       "      <td>40.159220</td>\n",
       "      <td>51.832015</td>\n",
       "      <td>7.781863</td>\n",
       "    </tr>\n",
       "    <tr>\n",
       "      <td>Ramicane</td>\n",
       "      <td>0</td>\n",
       "      <td>17.912664</td>\n",
       "      <td>31.560470</td>\n",
       "      <td>36.561652</td>\n",
       "      <td>40.659006</td>\n",
       "      <td>54.306811</td>\n",
       "      <td>9.098537</td>\n",
       "    </tr>\n",
       "    <tr>\n",
       "      <td>Infubinol</td>\n",
       "      <td>1</td>\n",
       "      <td>36.832905</td>\n",
       "      <td>54.048608</td>\n",
       "      <td>60.165180</td>\n",
       "      <td>65.525743</td>\n",
       "      <td>82.741446</td>\n",
       "      <td>11.477135</td>\n",
       "    </tr>\n",
       "    <tr>\n",
       "      <td>Ceftamin</td>\n",
       "      <td>0</td>\n",
       "      <td>25.355450</td>\n",
       "      <td>48.722078</td>\n",
       "      <td>59.851956</td>\n",
       "      <td>64.299830</td>\n",
       "      <td>87.666458</td>\n",
       "      <td>15.577752</td>\n",
       "    </tr>\n",
       "  </tbody>\n",
       "</table>\n",
       "</div>"
      ],
      "text/plain": [
       "           Count Outliers  Lower Bound  Lower Quartile     Median  \\\n",
       "Capomulin               0    20.704562       32.377357  38.125164   \n",
       "Ramicane                0    17.912664       31.560470  36.561652   \n",
       "Infubinol               1    36.832905       54.048608  60.165180   \n",
       "Ceftamin                0    25.355450       48.722078  59.851956   \n",
       "\n",
       "           Upper Quartile  Upper Bound        IQR  \n",
       "Capomulin       40.159220    51.832015   7.781863  \n",
       "Ramicane        40.659006    54.306811   9.098537  \n",
       "Infubinol       65.525743    82.741446  11.477135  \n",
       "Ceftamin        64.299830    87.666458  15.577752  "
      ]
     },
     "execution_count": 230,
     "metadata": {},
     "output_type": "execute_result"
    }
   ],
   "source": [
    "pd.concat([capomulin_outliers_df,ramicane_outliers_df,infubinol_outliers_df,ceftamin_outliers_df])"
   ]
  },
  {
   "cell_type": "code",
   "execution_count": 185,
   "metadata": {},
   "outputs": [],
   "source": [
    "# Generate a box plot of the final tumor volume of each mouse across four regimens of interest"
   ]
  },
  {
   "cell_type": "code",
   "execution_count": 191,
   "metadata": {},
   "outputs": [
    {
     "data": {
      "text/plain": [
       "{'whiskers': [<matplotlib.lines.Line2D at 0x1a27597510>,\n",
       "  <matplotlib.lines.Line2D at 0x1a2759d710>,\n",
       "  <matplotlib.lines.Line2D at 0x1a2759dc90>,\n",
       "  <matplotlib.lines.Line2D at 0x1a275a5dd0>,\n",
       "  <matplotlib.lines.Line2D at 0x1a275bf610>,\n",
       "  <matplotlib.lines.Line2D at 0x1a275bfb10>,\n",
       "  <matplotlib.lines.Line2D at 0x1a275cfa10>,\n",
       "  <matplotlib.lines.Line2D at 0x1a275cff10>],\n",
       " 'caps': [<matplotlib.lines.Line2D at 0x1a2759dc10>,\n",
       "  <matplotlib.lines.Line2D at 0x1a274e4d50>,\n",
       "  <matplotlib.lines.Line2D at 0x1a275aec90>,\n",
       "  <matplotlib.lines.Line2D at 0x1a275a5650>,\n",
       "  <matplotlib.lines.Line2D at 0x1a275bfbd0>,\n",
       "  <matplotlib.lines.Line2D at 0x1a275c7590>,\n",
       "  <matplotlib.lines.Line2D at 0x1a275b6d50>,\n",
       "  <matplotlib.lines.Line2D at 0x1a275d7950>],\n",
       " 'boxes': [<matplotlib.lines.Line2D at 0x1a275974d0>,\n",
       "  <matplotlib.lines.Line2D at 0x1a275a5d10>,\n",
       "  <matplotlib.lines.Line2D at 0x1a275aed10>,\n",
       "  <matplotlib.lines.Line2D at 0x1a275cf510>],\n",
       " 'medians': [<matplotlib.lines.Line2D at 0x1a275a5690>,\n",
       "  <matplotlib.lines.Line2D at 0x1a275b66d0>,\n",
       "  <matplotlib.lines.Line2D at 0x1a275c7650>,\n",
       "  <matplotlib.lines.Line2D at 0x1a275d7e50>],\n",
       " 'fliers': [<matplotlib.lines.Line2D at 0x1a275a5850>,\n",
       "  <matplotlib.lines.Line2D at 0x1a275b6bd0>,\n",
       "  <matplotlib.lines.Line2D at 0x1a275c7ad0>,\n",
       "  <matplotlib.lines.Line2D at 0x1a275cff90>],\n",
       " 'means': []}"
      ]
     },
     "execution_count": 191,
     "metadata": {},
     "output_type": "execute_result"
    },
    {
     "data": {
      "image/png": "[encoded data removed]",
      "text/plain": [
       "<Figure size 432x288 with 1 Axes>"
      ]
     },
     "metadata": {
      "needs_background": "light"
     },
     "output_type": "display_data"
    }
   ],
   "source": [
    "data = [capomulin_df[\"Tumor Volume (mm3)\"], \n",
    "        ramicane_df[\"Tumor Volume (mm3)\"], \n",
    "        infubinol_df[\"Tumor Volume (mm3)\"],\n",
    "        ceftamin_df[\"Tumor Volume (mm3)\"]]\n",
    "\n",
    "fig1, ax1 = plt.subplots()\n",
    "ax1.set_title('Final Tumor Volume')\n",
    "ax1.set_ylabel('Tumor Volume (mm3)')\n",
    "plt.xticks([1, 2, 3, 4], ['Capomulin', 'Ramicane', 'Infubinol', 'Ceftamin'], rotation = 45)\n",
    "\n",
    "ax1.boxplot(data)\n"
   ]
  },
  {
   "cell_type": "markdown",
   "metadata": {},
   "source": [
    "## Line and scatter plots"
   ]
  },
  {
   "cell_type": "code",
   "execution_count": 9,
   "metadata": {},
   "outputs": [],
   "source": [
    "# Generate a line plot of time point versus tumor volume for a mouse treated with Capomulin"
   ]
  },
  {
   "cell_type": "code",
   "execution_count": 233,
   "metadata": {},
   "outputs": [
    {
     "data": {
      "text/plain": [
       "Text(0, 0.5, 'Tumor Volume (mm3)')"
      ]
     },
     "execution_count": 233,
     "metadata": {},
     "output_type": "execute_result"
    },
    {
     "data": {
      "image/png": "[encoded data removed]",
      "text/plain": [
       "<Figure size 432x288 with 1 Axes>"
      ]
     },
     "metadata": {
      "needs_background": "light"
     },
     "output_type": "display_data"
    }
   ],
   "source": [
    "b128_mouse = study_results.loc[study_results[\"Mouse ID\"] == \"b128\"]\n",
    "\n",
    "b128_mouse\n",
    "plt.plot(b128_mouse[\"Timepoint\"],b128_mouse[\"Tumor Volume (mm3)\"])\n",
    "plt.title(\"Mouse B128 Tumor Volume Over Time\")\n",
    "\n",
    "plt.xlabel(\"Timepoint\")\n",
    "\n",
    "plt.ylabel(\"Tumor Volume (mm3)\")\n"
   ]
  },
  {
   "cell_type": "code",
   "execution_count": 216,
   "metadata": {},
   "outputs": [
    {
     "data": {
      "image/png": "[encoded data removed]",
      "text/plain": [
       "<Figure size 432x288 with 1 Axes>"
      ]
     },
     "metadata": {
      "needs_background": "light"
     },
     "output_type": "display_data"
    },
    {
     "name": "stdout",
     "output_type": "stream",
     "text": [
      "The equation of the regression line is: y = 0.95x + 21.55\n",
      "The r-squared is: 0.8419363424694718\n"
     ]
    }
   ],
   "source": [
    "# Generate a scatter plot of mouse weight versus average tumor volume for the Capomulin regimen\n",
    "capomulin_big_merge = big_merge.loc[big_merge[\"Drug Regimen\"] == \"Capomulin\", [\"Mouse ID\", \"Tumor Volume (mm3)\", \"Weight (g)\"]]\n",
    "capomulin_grouped_big_merge = capomulin_big_merge.groupby(\"Mouse ID\").mean()\n",
    "capomulin_grouped_big_merge\n",
    "\n",
    "x_values = capomulin_grouped_big_merge[\"Weight (g)\"]\n",
    "y_values = capomulin_grouped_big_merge[\"Tumor Volume (mm3)\"]\n",
    "\n",
    "(slope, intercept, rvalue, pvalue, stderr) = st.linregress(x_values, y_values)\n",
    "\n",
    "regress_values = x_values * slope + intercept\n",
    "\n",
    "line_eq = \"y = \" + str(round(slope,2)) + \"x + \" + str(round(intercept,2))\n",
    "\n",
    "plt.scatter(x_values,y_values)\n",
    "plt.plot(x_values,regress_values,\"r-\")\n",
    "\n",
    "plt.title(\"Mouse Weight Vs Tumor Size\")\n",
    "\n",
    "plt.xlabel(\"Weight (g)\")\n",
    "\n",
    "plt.ylabel(\"Tumor Volume (mm3)\")\n",
    "\n",
    "plt.show()\n",
    "print(f\"The equation of the regression line is: {line_eq}\")\n",
    "print(f\"The r-squared is: {rvalue}\")"
   ]
  },
  {
   "cell_type": "code",
   "execution_count": 11,
   "metadata": {},
   "outputs": [],
   "source": [
    "# Calculate the correlation coefficient and linear regression model \n",
    "# for mouse weight and average tumor volume for the Capomulin regimen"
   ]
  },
  {
   "cell_type": "code",
   "execution_count": null,
   "metadata": {},
   "outputs": [],
   "source": []
  }
 ],
 "metadata": {
  "anaconda-cloud": {},
  "kernelspec": {
   "display_name": "Python 3",
   "language": "python",
   "name": "python3"
  },
  "language_info": {
   "codemirror_mode": {
    "name": "ipython",
    "version": 3
   },
   "file_extension": ".py",
   "mimetype": "text/x-python",
   "name": "python",
   "nbconvert_exporter": "python",
   "pygments_lexer": "ipython3",
   "version": "3.7.4"
  }
 },
 "nbformat": 4,
 "nbformat_minor": 2
}
